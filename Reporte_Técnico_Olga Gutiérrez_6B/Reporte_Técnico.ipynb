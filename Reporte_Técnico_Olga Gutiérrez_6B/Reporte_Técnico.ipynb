{
 "cells": [
  {
   "cell_type": "markdown",
   "metadata": {},
   "source": [
    "# **Reporte Técnico de Aplicación de Análisis de Series Temporales**"
   ]
  },
  {
   "cell_type": "markdown",
   "metadata": {},
   "source": [
    "Autor: Olga Yarely Gutiérrez Martínez\n",
    "\n",
    "Fecha: Viernes, 26 de abril de 2024\n",
    "\n",
    "Docente: Dr. Walter Alexander Mata López\n",
    "\n",
    "Materia: Análisis de Series Temporales\n",
    "\n",
    "Institución: Universidad de Colima"
   ]
  },
  {
   "cell_type": "markdown",
   "metadata": {},
   "source": [
    "### **Resumen**\n",
    "\n",
    "La aplicación desarrollada es una herramienta interactiva para el análisis de series temporales. Proporciona cuatro secciones principales: Estadísticas Descriptivas, Patrones, Anomalías y Transformación y Estacionaridad. Estas secciones permiten a los usuarios explorar y entender mejor sus datos de series temporales, facilitando la detección de patrones, anomalías y la preparación de datos para modelado predictivo. Para la aplicación se utilizó Streamlit, que es una biblioteca basada en Python, que se utiliza para crear aplicaciones web interactivas. Se utilizó la biblioteca matplotlib.pyplot para la visualización de datos y la biblioteca Statsmodels para el análisis de series temporales. La aplicación se implementó en un servidor local y se puede acceder a ella a través de un navegador web."
   ]
  },
  {
   "cell_type": "markdown",
   "metadata": {},
   "source": [
    "### **1. Introducción**\n",
    "\n",
    "El análisis de series temporales es una técnica utilizada para modelar y predecir datos que varían con el tiempo. Se utiliza en una amplia variedad de campos, como finanzas, meteorología, medicina y muchas otras áreas. El análisis de series temporales implica la exploración de los datos para identificar patrones y anomalías, así como la preparación de los datos para el modelado predictivo.\n",
    "El objetivo de esta aplicación es proporcionar a los usuarios una interfaz fácil de usar para realizar análisis exploratorio y preparación de datos en series temporales. Las funcionalidades incluidas abordan aspectos clave del análisis de series temporales, desde la comprensión básica de los datos hasta la detección de patrones y anomalías, así como la transformación de datos para mejorar la estacionaridad."
   ]
  },
  {
   "cell_type": "markdown",
   "metadata": {},
   "source": [
    "### **2. Tecnologías Utilizadas**\n",
    "\n",
    "La aplicación se desarrolló utilizando las siguientes tecnologías:\n",
    "\n",
    "- Python: Lenguaje de programación utilizado para el desarrollo de la aplicación.\n",
    "- Streamlit: Biblioteca de Python utilizada para crear aplicaciones web interactivas (Framework Web).\n",
    "- Matplotlib: Biblioteca de Python utilizada para la visualización de datos.\n",
    "- Statsmodels: Biblioteca de Python utilizada para el análisis de series temporales.\n",
    "- Pandas: Biblioteca de Python utilizada para el manejo de datos.\n",
    "- Numpy: Biblioteca de Python utilizada para operaciones matemáticas."
   ]
  },
  {
   "cell_type": "markdown",
   "metadata": {},
   "source": [
    "![Cargando....](1.png)\n"
   ]
  },
  {
   "cell_type": "markdown",
   "metadata": {},
   "source": [
    "### **3. Diseño y Arquitectura**\n",
    "\n",
    "La aplicación sigue una arquitectura de una sola página, donde cada sección está contenida en una pestaña del menú principal. Se utilizó el framework Streamlit para desarrollar la interfaz de usuario interactiva."
   ]
  },
  {
   "cell_type": "markdown",
   "metadata": {},
   "source": [
    "![Cargando...](2.png)\n"
   ]
  },
  {
   "cell_type": "markdown",
   "metadata": {},
   "source": [
    "### **4. Desarrollo**\n",
    "\n",
    "Durante el desarrollo de la aplicación, se enfrentaron varios desafíos, como la integración de gráficos interactivos para visualizar patrones y anomalías, así como la implementación de algoritmos para la detección automática de estos elementos en los datos de series temporales. Entre las principales dificultades que se presentaron, fueron adaptar las libretas de jupyter de cada uno de los temas a la estructura de la aplicación, ya que se tuvo que modificar el código para que se pudiera ejecutar en Streamlit."
   ]
  },
  {
   "cell_type": "markdown",
   "metadata": {},
   "source": [
    "### **5. Funcionalidades de la Aplicación**\n",
    "\n",
    "La aplicación consta de cuatro secciones principales, cada una con funcionalidades específicas para el análisis de series temporales:\n",
    "\n",
    "##### **5.1 Estadísticas Descriptivas**\n",
    "\n",
    "En esta sección, los usuarios pueden observar, que se plantea el siguiente problema: Una empresa desea realizar un análisis estadístico de los salarios anuales de sus empleados. El propósito de este análisis es obtener una mejor comprensión de la distribución de los ingresos entre los empleados, lo que permitirá a la empresa tomar decisiones informadas respecto a la equidad salarial y la estructura de compensaciones. Aquí calculamos las estadísticas descriptivas básicas, como la media, la desviación estándar, el mínimo y el máximo de los datos. \n",
    "\n",
    "![Texto alternativo](3.png)\n",
    "\n",
    "![Texto alternativo](4.png)\n",
    "\n",
    "\n",
    "##### **5.2 Patrones**\n",
    "\n",
    "En esta sección, los usuarios pueden explorar los patrones en una empresa de venta al por menor, ya que se ha recopilado un conjunto de datos que registra las ventas mensuales de varios productos durante un periodo de varios años. El propósito fue tarea analizar estos datos para identificar posibles patrones o tendencias en las ventas mensuales en los datos de series temporales. Se proporcionan gráficos interactivos para visualizar tendencias, estacionalidad y ciclos en los datos. \n",
    "\n",
    "![Texto alternativo](5.png)\n",
    "\n",
    "![Texto alternativo](prueba.png)\n",
    "\n",
    "\n",
    "##### **5.3 Anomalías**\n",
    "\n",
    "En esta sección, los usuarios pueden detectar anomalías en los datos de series temporales. Se plantea el siguiente problema: En una planta de manufactura, se utilizan sensores para monitorear la temperatura en diferentes partes de la línea de producción. Estos sensores registran lecturas de temperatura cada hora durante un periodo de varios meses. Aquí analizamos los datos para identificar posibles anomalías en las lecturas de temperatura que puedan indicar problemas en el proceso de fabricación o fallos en los equipos.\n",
    "\n",
    "![Texto alternativo](6.png)\n",
    "\n",
    "![Texto alternativo](6.1.png)\n",
    "\n",
    "\n",
    "##### **5.4 Transformación y Estacionaridad**\n",
    "\n",
    "En esta sección, los usuarios pueden transformar los datos de series temporales para mejorar la estacionaridad. Se plantea el siguiente problema: Se tiene un conjunto de datos que representa la temperatura media mensual de una ciudad a lo largo de varios años. La serie de tiempo ha mostrado fluctuaciones que podrían ser tanto estacionales como tendenciales. Aquí aplicamos técnicas de transformación para mejorar la estacionaridad de los datos y facilitar el modelado predictivo.\n",
    "\n",
    "![Texto alternativo](7.png)\n",
    "\n",
    "![Texto alternativo](7.1.png)"
   ]
  },
  {
   "cell_type": "markdown",
   "metadata": {},
   "source": [
    "### **6. Resultados**\n",
    "\n",
    "La aplicación proporciona una interfaz interactiva para el análisis de series temporales, lo que permite a los usuarios explorar y comprender mejor sus datos. Las funcionalidades incluidas en la aplicación facilitan la detección de patrones y anomalías en los datos, así como la preparación de los datos para el modelado predictivo. Los gráficos interactivos y las estadísticas descriptivas proporcionan una visión general de los datos y ayudan a identificar posibles problemas en los datos de series temporales."
   ]
  },
  {
   "cell_type": "markdown",
   "metadata": {},
   "source": [
    "### **7. Conclusiones**\n",
    "\n",
    "La aplicación desarrollada es una herramienta útil para el análisis de series temporales, ya que proporciona funcionalidades clave para explorar y comprender los datos. Las secciones de Estadísticas Descriptivas, Patrones, Anomalías y Transformación y Estacionaridad permiten a los usuarios realizar análisis exploratorio y preparación de datos en series temporales de manera interactiva. La aplicación es fácil de usar y proporciona una interfaz intuitiva para el análisis de series temporales."
   ]
  }
 ],
 "metadata": {
  "language_info": {
   "name": "python"
  }
 },
 "nbformat": 4,
 "nbformat_minor": 2
}
